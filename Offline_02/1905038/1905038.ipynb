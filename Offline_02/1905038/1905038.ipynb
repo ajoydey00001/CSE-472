{
 "cells": [
  {
   "cell_type": "code",
   "execution_count": 2,
   "metadata": {},
   "outputs": [
    {
     "name": "stdout",
     "output_type": "stream",
     "text": [
      "Defaulting to user installation because normal site-packages is not writeable\n",
      "Requirement already satisfied: scikit-learn in c:\\users\\ajoy dey\\appdata\\roaming\\python\\python311\\site-packages (1.5.1)\n",
      "Requirement already satisfied: numpy>=1.19.5 in c:\\users\\ajoy dey\\appdata\\roaming\\python\\python311\\site-packages (from scikit-learn) (1.26.2)\n",
      "Requirement already satisfied: scipy>=1.6.0 in c:\\users\\ajoy dey\\appdata\\roaming\\python\\python311\\site-packages (from scikit-learn) (1.11.4)\n",
      "Requirement already satisfied: joblib>=1.2.0 in c:\\users\\ajoy dey\\appdata\\roaming\\python\\python311\\site-packages (from scikit-learn) (1.4.2)\n",
      "Requirement already satisfied: threadpoolctl>=3.1.0 in c:\\users\\ajoy dey\\appdata\\roaming\\python\\python311\\site-packages (from scikit-learn) (3.5.0)\n",
      "Note: you may need to restart the kernel to use updated packages.\n"
     ]
    },
    {
     "name": "stderr",
     "output_type": "stream",
     "text": [
      "DEPRECATION: Loading egg at c:\\program files\\python311\\lib\\site-packages\\vboxapi-1.0-py3.11.egg is deprecated. pip 24.3 will enforce this behaviour change. A possible replacement is to use pip for package installation.. Discussion can be found at https://github.com/pypa/pip/issues/12330\n",
      "\n",
      "[notice] A new release of pip is available: 23.3.2 -> 24.2\n",
      "[notice] To update, run: python.exe -m pip install --upgrade pip\n"
     ]
    }
   ],
   "source": [
    "%pip install scikit-learn\n",
    "\n",
    "%reset -f"
   ]
  },
  {
   "cell_type": "code",
   "execution_count": 3,
   "metadata": {},
   "outputs": [],
   "source": [
    "import numpy as np\n",
    "import pandas as pd\n",
    "import math\n",
    "\n",
    "from sklearn.impute import SimpleImputer\n",
    "from sklearn.preprocessing import StandardScaler,LabelEncoder\n",
    "from sklearn.model_selection import train_test_split\n",
    "from sklearn.metrics import confusion_matrix\n",
    "from sklearn.feature_selection import SelectKBest, f_classif\n",
    "from sklearn.metrics import confusion_matrix, roc_auc_score, average_precision_score\n",
    "import seaborn as sns\n",
    "import matplotlib.pyplot as plt"
   ]
  },
  {
   "cell_type": "markdown",
   "metadata": {},
   "source": [
    "Dataset Preprocessing"
   ]
  },
  {
   "cell_type": "markdown",
   "metadata": {},
   "source": [
    "Dataset_1"
   ]
  },
  {
   "cell_type": "code",
   "execution_count": 4,
   "metadata": {},
   "outputs": [],
   "source": [
    "def preprocessing_dataset_1():\n",
    "    data = pd.read_csv(\"WA_Fn-UseC_-Telco-Customer-Churn copy.csv\")\n",
    "    data.drop([\"customerID\"],inplace=True,axis=1)\n",
    "    \n",
    "    data.drop_duplicates(inplace=True)\n",
    "    data.dropna(subset=['Churn'],inplace=True)\n",
    "    Features = data.drop('Churn',axis=1)\n",
    "    Labels = data['Churn']\n",
    "    Features['TotalCharges'] = Features['TotalCharges'].replace(' ', np.nan)\n",
    "    Features['TotalCharges'] = Features['TotalCharges'].astype('float64')\n",
    "    Features.fillna(Features.select_dtypes(include=['number']).mean(), inplace=True)\n",
    "    for column in Features.select_dtypes(include=['object']).columns:\n",
    "        mode_value = Features[column].mode()[0]\n",
    "        Features[column].fillna(mode_value, inplace=True)\n",
    "    encoder = LabelEncoder()\n",
    "    Labels = encoder.fit_transform(Labels)\n",
    "    non_one_hot_columns = []\n",
    "    for c in Features.columns:\n",
    "        if not pd.api.types.is_numeric_dtype(Features[c]):\n",
    "            Features[c] = Features[c].astype('category')\n",
    "        else:\n",
    "            non_one_hot_columns.append(c)\n",
    "        \n",
    "    for c in Features.columns:\n",
    "        if Features[c].dtype == 'category' :\n",
    "            if Features[c].nunique() == 2 :\n",
    "                Features[c] = encoder.fit_transform(Features[c])\n",
    "            else :\n",
    "                Features = pd.get_dummies(Features,columns=[c])\n",
    "    scaler = StandardScaler()  \n",
    "    Features[non_one_hot_columns] = scaler.fit_transform(Features[non_one_hot_columns])\n",
    "\n",
    "    \n",
    "    Features_train , Features_test, Labels_train, Labels_test = train_test_split(Features,Labels,test_size=0.2,random_state=40)\n",
    "    Features_train,Features_val,Labels_train,Labels_val = train_test_split(Features_train,Labels_train,test_size=0.2,random_state=40)\n",
    "    return Features_train, Features_val, Features_test, Labels_train, Labels_val, Labels_test\n",
    "\n"
   ]
  },
  {
   "cell_type": "code",
   "execution_count": 5,
   "metadata": {},
   "outputs": [],
   "source": [
    "def preprocessing_dataset_2():\n",
    "    name_of_col = ['age', 'workclass', 'fnlwgt', 'education', 'education-num', 'marital-status', 'occupation', 'relationship', 'race', 'sex', 'capital-gain', 'capital-loss', 'hours-per-week', 'native-country', 'income']\n",
    "\n",
    "    from ucimlrepo import fetch_ucirepo \n",
    "   \n",
    "    adult = fetch_ucirepo(id=2) \n",
    "    input= adult.data.features\n",
    "    input.replace('?', np.nan, inplace=True) \n",
    "\n",
    "    adult.data.features['income'] = adult.data.targets\n",
    "    data = adult.data.features\n",
    "    \n",
    "\n",
    "    data.drop_duplicates(inplace=True)\n",
    "    data.dropna(subset=['income'],inplace=True)\n",
    "    Features = data.drop('income',axis=1)\n",
    "    Labels = data['income']\n",
    "    Labels = Labels.astype(str).str.rstrip('.')\n",
    "    Features.fillna(Features.select_dtypes(include=['number']).mean(), inplace=True)\n",
    "    for column in Features.select_dtypes(include=['object']).columns:\n",
    "        mode_value = Features[column].mode()[0]\n",
    "        Features[column].fillna(mode_value, inplace=True)\n",
    "    encoder = LabelEncoder()\n",
    "    Labels = encoder.fit_transform(Labels)\n",
    "    non_one_hot_columns = []\n",
    "    for c in Features.columns:\n",
    "        if not pd.api.types.is_numeric_dtype(Features[c]):\n",
    "            Features[c] = Features[c].astype('category')\n",
    "        else:\n",
    "            non_one_hot_columns.append(c)\n",
    "        \n",
    "    for c in Features.columns:\n",
    "        if Features[c].dtype == 'category' :\n",
    "            if Features[c].nunique() == 2 :\n",
    "                Features[c] = encoder.fit_transform(Features[c])\n",
    "            else :\n",
    "                Features = pd.get_dummies(Features,columns=[c])\n",
    "    scaler = StandardScaler()  \n",
    "    Features[non_one_hot_columns] = scaler.fit_transform(Features[non_one_hot_columns])\n",
    "    df_Features = pd.DataFrame(Features,columns=Features.columns) \n",
    "    df_Label = pd.DataFrame(Labels,columns=['income'])\n",
    "    Label_series = df_Label['income']\n",
    "    correlations = df_Features.corrwith(Label_series)\n",
    "    correlations_abs = correlations.abs()\n",
    "    correlations_sorted = correlations_abs.sort_values(ascending=False)\n",
    "    Features_top_50 = correlations_sorted.index[:50]\n",
    "    Features = Features[Features_top_50]\n",
    "    \n",
    "    Features_train , Features_test, Labels_train, Labels_test = train_test_split(Features,Labels,test_size=0.2,random_state=40)\n",
    "    Features_train,Features_val,Labels_train,Labels_val = train_test_split(Features_train,Labels_train,test_size=0.2,random_state=40)\n",
    "    return Features_train, Features_val, Features_test, Labels_train, Labels_val, Labels_test"
   ]
  },
  {
   "cell_type": "code",
   "execution_count": 6,
   "metadata": {},
   "outputs": [],
   "source": [
    "def preprocessing_dataset_3():\n",
    "    data = pd.read_csv(\"creditcard.csv\")\n",
    "    data.drop_duplicates(inplace=True)\n",
    "    data.dropna(subset=['Class'],inplace=True)\n",
    "\n",
    "    sample_positive = data[data['Class'] == 1]\n",
    "    sample_negative = data[data['Class'] == 0].sample(n=20000,random_state=40)\n",
    "    data = pd.concat([sample_positive, sample_negative])\n",
    "\n",
    "\n",
    "    Features = data.drop('Class',axis=1)\n",
    "    Labels = data['Class']\n",
    "    Features.fillna(Features.select_dtypes(include=['number']).mean(), inplace=True)\n",
    "    for column in Features.select_dtypes(include=['object']).columns:\n",
    "        mode_value = Features[column].mode()[0]\n",
    "        Features[column].fillna(mode_value, inplace=True)\n",
    "    \n",
    "    encoder = LabelEncoder()\n",
    "    Labels = encoder.fit_transform(Labels)\n",
    "    non_one_hot_columns = Features.columns.tolist()\n",
    "    std_scaler = StandardScaler() \n",
    "    Features[non_one_hot_columns] = std_scaler.fit_transform(Features[non_one_hot_columns])\n",
    "    \n",
    "    \n",
    "\n",
    "    Features_train , Features_test, Labels_train, Labels_test = train_test_split(Features,Labels,test_size=0.2,random_state=40)\n",
    "    Features_train,Features_val,Labels_train,Labels_val = train_test_split(Features_train,Labels_train,test_size=0.2,random_state=40)\n",
    "    return Features_train, Features_val, Features_test, Labels_train, Labels_val, Labels_test\n",
    "    "
   ]
  },
  {
   "cell_type": "code",
   "execution_count": 7,
   "metadata": {},
   "outputs": [],
   "source": [
    "def function_sigmoid(X):\n",
    "    X = np.array(X, dtype=float)\n",
    "    return 1/(1+np.exp(-X))"
   ]
  },
  {
   "cell_type": "code",
   "execution_count": 8,
   "metadata": {},
   "outputs": [],
   "source": [
    "def Gradient_Descent(X,predicted_y , true_y):\n",
    "    \n",
    "    temp = (true_y - predicted_y) *predicted_y*(1-predicted_y)\n",
    "    \n",
    "    temp = np.dot(X.T,temp)/X.shape[0]\n",
    "    temp.astype(np.float64)\n",
    "    return temp"
   ]
  },
  {
   "cell_type": "code",
   "execution_count": 9,
   "metadata": {},
   "outputs": [],
   "source": [
    "def Normalization(x):\n",
    "    x=x.astype('float64')\n",
    "    temp1 = x - x.mean(axis=0)\n",
    "    temp2 = x.std(axis=0) + 1e-8\n",
    "    return temp1 / temp2"
   ]
  },
  {
   "cell_type": "code",
   "execution_count": 10,
   "metadata": {},
   "outputs": [],
   "source": [
    "def fitting_logistic_regression(x,true_y,Epoch,learing_rate= 0.01):\n",
    "    Number_of_sample = x.shape[0]\n",
    "    Number_of_features = x.shape[1]\n",
    "    weight = np.zeros((Number_of_features + 1 , 1))\n",
    "    x = Normalization(x)\n",
    "    \n",
    "    x = np.concatenate((x, np.ones((Number_of_sample, 1))), axis=1)\n",
    "\n",
    "    true_y = true_y.reshape(Number_of_sample,1)\n",
    "    iterations = 0\n",
    "    while iterations< Epoch:\n",
    "\n",
    "        hypothesis_y = function_sigmoid(np.dot(x,weight))\n",
    "        derivative_loss = Gradient_Descent(x,hypothesis_y,true_y)\n",
    "        weight = weight + learing_rate*derivative_loss\n",
    "\n",
    "        iterations += 1\n",
    "    \n",
    "    return weight\n",
    "\n"
   ]
  },
  {
   "cell_type": "code",
   "execution_count": 11,
   "metadata": {},
   "outputs": [],
   "source": [
    "def prediction_of_logistic_regression(Weight, x):\n",
    "    Number_of_sample = x.shape[0]\n",
    "\n",
    "    x = np.concatenate((x, np.ones((Number_of_sample, 1))), axis=1)\n",
    "\n",
    "    prediction_y = function_sigmoid(np.dot(x,Weight))\n",
    "    Prediction_list=[]\n",
    "    for j in prediction_y:\n",
    "        if j>= 0.5:\n",
    "            Prediction_list.append(1)\n",
    "        else:\n",
    "            Prediction_list.append(0)\n",
    "    return np.array(Prediction_list).reshape(Number_of_sample, 1) , prediction_y"
   ]
  },
  {
   "cell_type": "code",
   "execution_count": 12,
   "metadata": {},
   "outputs": [],
   "source": [
    "\n",
    "\n",
    "def measurement(predicted_y,true_y, probability_y):\n",
    "    true_negative, false_positive,false_negative,true_positive = confusion_matrix(true_y,predicted_y).ravel()\n",
    "    accuracy = (true_positive+true_negative)/(true_negative+true_positive+false_negative+false_positive)\n",
    "    true_positive_ratio = true_positive / (true_positive + false_negative)\n",
    "    true_negative_ratio = true_negative / (true_negative +false_positive)\n",
    "    positive_predictive_value = true_positive / (true_positive + false_positive)\n",
    "    \n",
    "    f1 = 2*((positive_predictive_value*true_positive_ratio)/(positive_predictive_value+true_positive_ratio))\n",
    "    auroc = roc_auc_score(true_y,probability_y)\n",
    "    aupr = average_precision_score(true_y,probability_y)\n",
    "    \n",
    "    \n",
    "    return accuracy , true_positive_ratio , true_negative_ratio , positive_predictive_value , f1,auroc, aupr\n",
    "    \n",
    "\n"
   ]
  },
  {
   "cell_type": "code",
   "execution_count": 13,
   "metadata": {},
   "outputs": [],
   "source": [
    "# (dataset_Features_train, dataset_Features_val, dataset_Features_test, dataset_Labels_train, dataset_Labels_val, dataset_Labels_test)= preprocessing_dataset_1()"
   ]
  },
  {
   "cell_type": "code",
   "execution_count": 14,
   "metadata": {},
   "outputs": [],
   "source": [
    "# (dataset_Features_train, dataset_Features_val, dataset_Features_test, dataset_Labels_train, dataset_Labels_val, dataset_Labels_test)= preprocessing_dataset_2()"
   ]
  },
  {
   "cell_type": "code",
   "execution_count": 15,
   "metadata": {},
   "outputs": [],
   "source": [
    "# (dataset_Features_train, dataset_Features_val, dataset_Features_test, dataset_Labels_train, dataset_Labels_val, dataset_Labels_test)= preprocessing_dataset_3()"
   ]
  },
  {
   "cell_type": "code",
   "execution_count": 16,
   "metadata": {},
   "outputs": [],
   "source": [
    "Labels_train = dataset_Labels_train.reshape(dataset_Labels_train.shape[0],1)\n",
    "Labels_test = dataset_Labels_test.reshape(dataset_Labels_test.shape[0],1)"
   ]
  },
  {
   "cell_type": "code",
   "execution_count": 17,
   "metadata": {},
   "outputs": [],
   "source": [
    "\n",
    "\n",
    "\n",
    "def Bagging_Stacking(Features_train,Features_valid,Features_test,Labels_train,Labels_valid,Labels_test):\n",
    "\n",
    "    predicted_output = []\n",
    "    test_output = []\n",
    "     \n",
    "    list_accuracy = []\n",
    "    list__true_positive_ratio = []\n",
    "    list_true_negative_ratio = []\n",
    "    list_positive_predictive_value = []\n",
    "    list_f1 = []\n",
    "    list_auroc = []\n",
    "    list_aupr = []\n",
    "    \n",
    "    for i in range(9):\n",
    "        pointers = np.random.choice(Features_train.shape[0], Features_train.shape[0], replace=True)\n",
    "        Features_sample = Features_train.iloc[pointers]\n",
    "        Labels_sample = Labels_train[pointers]\n",
    "        \n",
    "        weight = fitting_logistic_regression(Features_sample,Labels_sample,Epoch=1000,learing_rate=0.01)\n",
    "        (predicted,probability_y) = prediction_of_logistic_regression(weight,Features_valid)\n",
    "        predicted_output.append(predicted)\n",
    "        (predicted,probability_y) = prediction_of_logistic_regression(weight,Features_test)\n",
    "        test_output.append(predicted)\n",
    "        (accuracy , true_positive_ratio , true_negative_ratio,positive_predictive_value,f1,auroc,aupr  ) = measurement(predicted,Labels_test,probability_y)\n",
    "        list_accuracy.append(accuracy)\n",
    "        list__true_positive_ratio.append(true_positive_ratio)\n",
    "        list_true_negative_ratio.append(true_negative_ratio)\n",
    "        list_positive_predictive_value.append(positive_predictive_value)\n",
    "        list_f1.append(f1)\n",
    "        list_auroc.append(auroc)\n",
    "        list_aupr.append(aupr)\n",
    "\n",
    "    Features_valid = Features_valid.copy()\n",
    "    Features_test = Features_test.copy()\n",
    "    \n",
    "    for i in range(len(test_output)):\n",
    "        temp = 'prediction_'+str(i)\n",
    "        Features_valid[temp]=predicted_output[i]\n",
    "        Features_test[temp] = test_output[i]\n",
    "   \n",
    "    \n",
    "    weight = fitting_logistic_regression(Features_valid,Labels_valid,Epoch=1000,learing_rate=0.01)\n",
    "    (predicted,probability_y) = prediction_of_logistic_regression(weight,Features_test)\n",
    "    (accuracy , true_positive_ratio , true_negative_ratio , positive_predictive_value , f1,auroc, aupr) = measurement(predicted,Labels_test,probability_y)\n",
    "    print(\"Accuracy : \",round(accuracy*100,2),\"%\")\n",
    "    print(\"Sensitivity : \",round(true_positive_ratio,4))\n",
    "    print(\"Specificity : \",round(true_negative_ratio,4))\n",
    "    print(\"Precision : \",round(positive_predictive_value,4))\n",
    "    print(\"F1-Score : \",round(f1,4))\n",
    "    print(\"AUROC : \",round(auroc,4))\n",
    "    print(\"AUPR : \",round(aupr,4))\n",
    "\n",
    "    df_performance = pd.DataFrame({\n",
    "        'accuracy': list_accuracy,\n",
    "        'sensitivity': list__true_positive_ratio,\n",
    "        'specificity': list_true_negative_ratio,\n",
    "        'precision': list_positive_predictive_value,\n",
    "        'F1-score': list_f1,\n",
    "        'AUROC': list_auroc,\n",
    "        'AUPR': list_aupr\n",
    "    })\n",
    "\n",
    "\n",
    "    plt.figure(figsize=(16, 10))\n",
    "    \n",
    "    sns.violinplot(data=df_performance, palette=\"muted\")\n",
    "    \n",
    "    plt.title('violin plots')\n",
    "    plt.xticks(rotation=45)\n",
    "    plt.show()\n",
    "\n",
    "\n",
    "\n"
   ]
  },
  {
   "cell_type": "code",
   "execution_count": 18,
   "metadata": {},
   "outputs": [
    {
     "name": "stdout",
     "output_type": "stream",
     "text": [
      "Accuracy :  79.07 %\n",
      "Sensitivity :  0.6856\n",
      "Specificity :  0.8282\n",
      "Precision :  0.587\n",
      "F1-Score :  0.6325\n",
      "AUROC :  0.8429\n",
      "AUPR :  0.6507\n"
     ]
    },
    {
     "data": {
      "image/png": "[encoded data removed]",
      "text/plain": [
       "<Figure size 1600x1000 with 1 Axes>"
      ]
     },
     "metadata": {},
     "output_type": "display_data"
    }
   ],
   "source": [
    "Bagging_Stacking(dataset_Features_train,dataset_Features_val,dataset_Features_test,dataset_Labels_train,dataset_Labels_val,dataset_Labels_test)"
   ]
  },
  {
   "cell_type": "code",
   "execution_count": 19,
   "metadata": {},
   "outputs": [],
   "source": [
    "\n",
    "\n",
    "def Voting_Ensemble(Features_train,Features_valid,Features_test,Labels_train,Labels_valid,Labels_test):\n",
    "\n",
    " \n",
    "    test_output = []\n",
    "    list_pobability=[]\n",
    "    for i in range(9):\n",
    "        pointers = np.random.choice(Features_train.shape[0], Features_train.shape[0], replace=True)\n",
    "        Features_sample = Features_train.iloc[pointers]\n",
    "        Labels_sample = Labels_train[pointers]\n",
    "        \n",
    "        weight = fitting_logistic_regression(Features_sample,Labels_sample,Epoch=1000,learing_rate=0.01)\n",
    "\n",
    "        (predicted,probalility_y) = prediction_of_logistic_regression(weight,Features_test)\n",
    "        test_output.append(predicted)\n",
    "        list_pobability.append(probalility_y)\n",
    "    \n",
    "    predicted = []\n",
    "    probability = []\n",
    "    for i in range(len(test_output[0])):\n",
    "        temp = 0.0\n",
    "        sum=0\n",
    "        for j in range(9):\n",
    "            sum +=test_output[j][i]\n",
    "            temp +=list_pobability[j][i]\n",
    "        temp /=9\n",
    "        probability.append(temp)\n",
    "        if sum>=5 :\n",
    "            predicted.append(1)\n",
    "        else:\n",
    "            predicted.append(0)\n",
    "        \n",
    "    \n",
    "\n",
    "    (accuracy , true_positive_ratio , true_negative_ratio , positive_predictive_value , f1,auroc, aupr)= measurement(predicted,Labels_test,probability)\n",
    "\n",
    "    print(\"Accuracy : \",round(accuracy*100,2),\"%\")\n",
    "    print(\"Sensitivity : \",round(true_positive_ratio,4))\n",
    "    print(\"Specificity : \",round(true_negative_ratio,4))\n",
    "    print(\"Precision : \",round(positive_predictive_value,4))\n",
    "    print(\"F1-Score : \",round(f1,4))\n",
    "    print(\"AUROC : \",round(auroc,4))\n",
    "    print(\"AUPR : \",round(aupr,4))\n",
    "\n",
    "\n"
   ]
  },
  {
   "cell_type": "code",
   "execution_count": 20,
   "metadata": {},
   "outputs": [
    {
     "name": "stdout",
     "output_type": "stream",
     "text": [
      "Accuracy :  79.57 %\n",
      "Sensitivity :  0.6721\n",
      "Specificity :  0.8398\n",
      "Precision :  0.599\n",
      "F1-Score :  0.6335\n",
      "AUROC :  0.8425\n",
      "AUPR :  0.6452\n"
     ]
    }
   ],
   "source": [
    "Voting_Ensemble(dataset_Features_train,dataset_Features_val,dataset_Features_test,dataset_Labels_train,dataset_Labels_val,dataset_Labels_test)"
   ]
  },
  {
   "cell_type": "code",
   "execution_count": 21,
   "metadata": {},
   "outputs": [],
   "source": [
    "\n",
    "\n",
    "def LR_calculation(Features_train,Features_valid,Features_test,Labels_train,Labels_valid,Labels_test):\n",
    "\n",
    " \n",
    "    list_accuracy = []\n",
    "    list__true_positive_ratio = []\n",
    "    list_true_negative_ratio = []\n",
    "    list_positive_predictive_value = []\n",
    "    list_f1 = []\n",
    "    list_auroc = []\n",
    "    list_aupr = []\n",
    "    \n",
    "    for i in range(9):\n",
    "        pointers = np.random.choice(Features_train.shape[0], Features_train.shape[0], replace=True)\n",
    "        Features_sample = Features_train.iloc[pointers]\n",
    "        Labels_sample = Labels_train[pointers]\n",
    "        \n",
    "        weight = fitting_logistic_regression(Features_sample,Labels_sample,Epoch=1000,learing_rate=0.01)\n",
    "\n",
    "        (predicted, probability_y) = prediction_of_logistic_regression(weight,Features_test)\n",
    "        (accuracy , true_positive_ratio , true_negative_ratio,positive_predictive_value,f1,auroc,aupr  ) = measurement(predicted,Labels_test,probability_y)\n",
    "        list_accuracy.append(accuracy)\n",
    "        list__true_positive_ratio.append(true_positive_ratio)\n",
    "        list_true_negative_ratio.append(true_negative_ratio)\n",
    "        list_positive_predictive_value.append(positive_predictive_value)\n",
    "        list_f1.append(f1)\n",
    "        list_auroc.append(auroc)\n",
    "        list_aupr.append(aupr)\n",
    "        \n",
    "        \n",
    "\n",
    "        \n",
    "    avg_accuracy = 0.0\n",
    "    for i in range(9):\n",
    "        avg_accuracy += list_accuracy[i]\n",
    "    avg_accuracy /=9\n",
    "    avg_true_positive_ratio = 0.0\n",
    "    for i in range(9):\n",
    "        avg_true_positive_ratio += list__true_positive_ratio[i]\n",
    "    avg_true_positive_ratio /=9\n",
    "    avg_true_negative_ratio = 0.0\n",
    "    for i in range(9):\n",
    "        avg_true_negative_ratio += list_true_negative_ratio[i]\n",
    "    avg_true_negative_ratio /= 9\n",
    "\n",
    "    avg_positive_predictive_value = 0.0\n",
    "    for i in range(9):\n",
    "        avg_positive_predictive_value += list_positive_predictive_value[i]\n",
    "    avg_positive_predictive_value /=9\n",
    "    avg_f1 = 0.0\n",
    "    for i in range(9):\n",
    "        avg_f1 += list_f1[i]\n",
    "    avg_f1 /=9\n",
    "    avg_auroc = 0.0\n",
    "    for i in range(9):\n",
    "        avg_auroc += list_auroc[i]\n",
    "    avg_auroc /=9\n",
    "\n",
    "    avg_aupr = 0.0\n",
    "    for i in range(9):\n",
    "        avg_aupr +=list_aupr[i]\n",
    "    avg_aupr /= 9\n",
    "\n",
    "    std_accuracy = np.std(list_accuracy)\n",
    "    std_true_positive_ratio = np.std(list__true_positive_ratio)\n",
    "    std_true_negative_ratio = np.std(list_true_negative_ratio)\n",
    "    std_positive_predictive_value = np.std(list_positive_predictive_value)\n",
    "    std_f1 = np.std(list_f1)\n",
    "    std_auroc = np.std(list_auroc)\n",
    "    std_aupr = np.std(list_aupr)\n",
    "\n",
    "    print(\"Accuracy : \", round(avg_accuracy , 4), \" ±\", round(std_accuracy, 4))\n",
    "    print(\"Sensitivity : \", round(avg_true_positive_ratio, 4), \"±\", round(std_true_positive_ratio, 4))\n",
    "    print(\"Specificity : \", round(avg_true_negative_ratio, 4), \"±\", round(std_true_negative_ratio, 4))\n",
    "    print(\"Precision : \", round(avg_positive_predictive_value, 4), \"±\", round(std_positive_predictive_value, 4))\n",
    "    print(\"F1-Score : \", round(avg_f1, 4), \"±\", round(std_f1, 4))\n",
    "    print(\"AUROC : \", round(avg_auroc, 4), \"±\", round(std_auroc, 4))\n",
    "    print(\"AUPR : \", round(avg_aupr, 4), \"±\", round(std_aupr, 4))\n",
    "   \n",
    "\n",
    "\n",
    "\n",
    "\n"
   ]
  },
  {
   "cell_type": "code",
   "execution_count": 22,
   "metadata": {},
   "outputs": [
    {
     "name": "stdout",
     "output_type": "stream",
     "text": [
      "Accuracy :  0.7956  ± 0.0041\n",
      "Sensitivity :  0.6655 ± 0.0183\n",
      "Specificity :  0.8419 ± 0.0108\n",
      "Precision :  0.6003 ± 0.0101\n",
      "F1-Score :  0.6309 ± 0.0052\n",
      "AUROC :  0.8421 ± 0.0011\n",
      "AUPR :  0.643 ± 0.0034\n"
     ]
    }
   ],
   "source": [
    "LR_calculation(dataset_Features_train,dataset_Features_val,dataset_Features_test,dataset_Labels_train,dataset_Labels_val,dataset_Labels_test)"
   ]
  }
 ],
 "metadata": {
  "kernelspec": {
   "display_name": "Python 3",
   "language": "python",
   "name": "python3"
  },
  "language_info": {
   "codemirror_mode": {
    "name": "ipython",
    "version": 3
   },
   "file_extension": ".py",
   "mimetype": "text/x-python",
   "name": "python",
   "nbconvert_exporter": "python",
   "pygments_lexer": "ipython3",
   "version": "3.11.1"
  }
 },
 "nbformat": 4,
 "nbformat_minor": 2
}
